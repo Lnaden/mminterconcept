{
 "cells": [
  {
   "cell_type": "markdown",
   "metadata": {},
   "source": [
    "## MolSSI Molecular Mechanics Interoperable Components\n",
    "### Conceptual Mockup\n",
    "\n",
    "This Jupyter Notebook is a conceptual mockup of the MolSSI MM Interoperable Components. The goal of this mockup is to demonstrate the ideas and goals of the components and get feedback on possible design choices.\n",
    "We present an example Molecular Mechanics pipeline:\n",
    " - System Comstruction\n",
    " - Minimization and Equilibration\n",
    " - Production Run\n",
    " - Analysis\n",
    "\n",
    "For each stage in the pipeline, we have a number of available components, using different codes or operations, that can fill the same role.\n",
    "Though using different codes and potentially performing different operations, the components that can be used in each stage all operate on the same input parameters and, with the exception of specific analysis operations, provide the same output parameters.\n",
    "\n",
    "By defining the I/O as a contract between stages, we create a system pipeline that is very modular and easy to adjust between components. More specifically, any component that adheres to the I/O specification of a stage can be used in place of any other component for that stage. The correctness of a specific pipeline, with components in place, is dependent on each component adhering to the I/O specification as well as it performing operations that  are applicable to a stage. {{{need an example here?}}}\n",
    "\n"
   ]
  },
  {
   "cell_type": "markdown",
   "metadata": {},
   "source": [
    "### Available Components\n",
    "We first import the available components for the mockup. Only one component from each stage is necessary to execute the pipeline, but we import all here for clarity."
   ]
  },
  {
   "cell_type": "code",
   "execution_count": 1,
   "metadata": {},
   "outputs": [],
   "source": [
    "import os\n",
    "from mminterconcept.construction import (protein_constructor,\n",
    "                           protein_constructor_vacuum,\n",
    "                           protein_constructor_solvate,\n",
    "                           protein_constructor_solvate_ion)\n",
    "\n",
    "from mminterconcept.min_eq import (min_eq,\n",
    "                     gro_minimize,\n",
    "                     gro_eq_nvt,\n",
    "                     gro_eq_npt,\n",
    "                     omm_minimize,\n",
    "                     omm_eq)\n",
    "\n",
    "from mminterconcept.production import (production,\n",
    "                         gromacs_production,\n",
    "                         openmm_production)\n",
    "\n",
    "from mminterconcept.analysis import (analysis,\n",
    "                       mda_com,\n",
    "                       mda_density,\n",
    "                       mda_rdf,\n",
    "                       mda_rmsd,\n",
    "                       mda_rog,\n",
    "                       mdtraj_com,\n",
    "                       mdtraj_density,\n",
    "                       mdtraj_rdf,\n",
    "                       mdtraj_rmsd,\n",
    "                       mdtraj_rog)"
   ]
  },
  {
   "cell_type": "markdown",
   "metadata": {},
   "source": [
    "### Input processing\n",
    "Here we start with a PDB file of a system for use in our pipeline."
   ]
  },
  {
   "cell_type": "code",
   "execution_count": 4,
   "metadata": {},
   "outputs": [],
   "source": [
    "\n",
    "#mdp = os.path.join(os.path.realpath(__file__), \"data\", \"em.mdp\")\n",
    "mdp = os.path.join(os.getcwd(), os.path.join(\"mminterconcept\", \"data\", \"em.mdp\"))\n"
   ]
  },
  {
   "cell_type": "markdown",
   "metadata": {},
   "source": [
    "### System Construction\n",
    "This stage constructs the system from the given pdbID and mdp file.\n",
    "\n",
    "#### API-Schema\n",
    "```python\n",
    "protein_constructor(pdbID, mdp, **kwargs) -> Tuple[mdtraj.Trajectory, str]\n",
    "```\n",
    "\n",
    "All components for this stage adhere to the above API-Schema. They take as input a pdbID and an mdp and return a tuple containing an mdtraj style Trajectory and a string containing the topology."
   ]
  },
  {
   "cell_type": "code",
   "execution_count": 5,
   "metadata": {},
   "outputs": [],
   "source": [
    "trajectory, topology = protein_constructor_vacuum(pdbID, mdp)"
   ]
  },
  {
   "cell_type": "markdown",
   "metadata": {},
   "source": [
    "### Minimization and Equilibration\n",
    "\n",
    "#### API-Schema\n",
    "```python\n",
    "min_eq(*, trajectory: mdtraj.Trajectory, topology: str) -> Tuple[mdtraj.Trajectory, str]\n",
    "```\n",
    "All components for this stage adhere to the above API-Schema. They take as input an mdtraj style Trajectory, and a topology as a string. They return a tuple containing an mdtraj style Trajectory and a topology as a string."
   ]
  },
  {
   "cell_type": "code",
   "execution_count": 6,
   "metadata": {},
   "outputs": [],
   "source": [
    "trajectory, topology = omm_minimize(trajectory=trajectory, topology=topology)"
   ]
  },
  {
   "cell_type": "code",
   "execution_count": 7,
   "metadata": {},
   "outputs": [],
   "source": [
    "trajectory, topology = omm_eq(trajectory=trajectory, topology=topology)"
   ]
  },
  {
   "cell_type": "markdown",
   "metadata": {},
   "source": [
    "### Production Run\n",
    "\n",
    "#### API-Schema\n",
    "```python\n",
    "production(*, trajectory: mdtraj.Trajectory, topology: str) -> mdtraj.Trajectory\n",
    "```\n",
    "All components for this stage adhere to the above API-Schema. They take as input an mdtraj style Trajectory, and a topology as a string. They return an mdtraj style Trajectory."
   ]
  },
  {
   "cell_type": "code",
   "execution_count": 8,
   "metadata": {},
   "outputs": [],
   "source": [
    "trajectory, topology = openmm_production(trajectory=trajectory, topology=topology)"
   ]
  },
  {
   "cell_type": "markdown",
   "metadata": {},
   "source": [
    "### System Analysis"
   ]
  },
  {
   "cell_type": "code",
   "execution_count": 4,
   "metadata": {},
   "outputs": [
    {
     "data": {
      "application/vnd.jupyter.widget-view+json": {
       "model_id": "8d6ba91f7b1a4909a044403fe8bae45e",
       "version_major": 2,
       "version_minor": 0
      },
      "text/plain": [
       "NGLWidget(max_frame=37)"
      ]
     },
     "metadata": {},
     "output_type": "display_data"
    }
   ],
   "source": [
    "import nglview\n",
    "from mminterconcept.construction.tools import ImportPDB \n",
    "\n",
    "#pdbID = '1LFH' # LACTOFERRIN globular glycoprotein ~ 10549 atoms\n",
    "pdbID = '1L2Y' # ARTIFICIAL Trp-Cage miniprotein ~ 304 atoms \n",
    "\n",
    "with ImportPDB(pdbID) as traj:\n",
    "    view = nglview.show_mdtraj(traj)\n",
    "\n",
    "view"
   ]
  },
  {
   "cell_type": "code",
   "execution_count": null,
   "metadata": {},
   "outputs": [
    {
     "ename": "AttributeError",
     "evalue": "'str' object has no attribute 'save'",
     "output_type": "error",
     "traceback": [
      "\u001b[0;31m---------------------------------------------------------------------------\u001b[0m",
      "\u001b[0;31mAttributeError\u001b[0m                            Traceback (most recent call last)",
      "\u001b[0;32m<ipython-input-11-d9440882ea2b>\u001b[0m in \u001b[0;36m<module>\u001b[0;34m\u001b[0m\n\u001b[1;32m     11\u001b[0m \u001b[0;31m#time, rog = mdtraj_rog(struct, traj)\u001b[0m\u001b[0;34m\u001b[0m\u001b[0;34m\u001b[0m\u001b[0;34m\u001b[0m\u001b[0m\n\u001b[1;32m     12\u001b[0m \u001b[0;31m#rdist, rdf = mdtraj_rdf(struct, traj)\u001b[0m\u001b[0;34m\u001b[0m\u001b[0;34m\u001b[0m\u001b[0;34m\u001b[0m\u001b[0m\n\u001b[0;32m---> 13\u001b[0;31m \u001b[0mtime\u001b[0m\u001b[0;34m,\u001b[0m \u001b[0mcom\u001b[0m \u001b[0;34m=\u001b[0m \u001b[0mmda_com\u001b[0m\u001b[0;34m(\u001b[0m\u001b[0mstruct\u001b[0m\u001b[0;34m,\u001b[0m \u001b[0mtraj\u001b[0m\u001b[0;34m)\u001b[0m\u001b[0;34m\u001b[0m\u001b[0;34m\u001b[0m\u001b[0m\n\u001b[0m\u001b[1;32m     14\u001b[0m \u001b[0mtime\u001b[0m\u001b[0;34m,\u001b[0m \u001b[0mrmsd\u001b[0m \u001b[0;34m=\u001b[0m \u001b[0mmda_rmsd\u001b[0m\u001b[0;34m(\u001b[0m\u001b[0mstruct\u001b[0m\u001b[0;34m,\u001b[0m \u001b[0mtraj\u001b[0m\u001b[0;34m)\u001b[0m\u001b[0;34m\u001b[0m\u001b[0;34m\u001b[0m\u001b[0m\n\u001b[1;32m     15\u001b[0m \u001b[0mtime\u001b[0m\u001b[0;34m,\u001b[0m \u001b[0mrog\u001b[0m \u001b[0;34m=\u001b[0m \u001b[0mmda_rog\u001b[0m\u001b[0;34m(\u001b[0m\u001b[0mstruct\u001b[0m\u001b[0;34m,\u001b[0m \u001b[0mtraj\u001b[0m\u001b[0;34m)\u001b[0m\u001b[0;34m\u001b[0m\u001b[0;34m\u001b[0m\u001b[0m\n",
      "\u001b[0;32m/c/Users/samel/Desktop/Molssi/MolSSI_Components/mminterconcept/mminterconcept/analysis/__init__.py\u001b[0m in \u001b[0;36mmda_com\u001b[0;34m(top, trajectory)\u001b[0m\n\u001b[1;32m     38\u001b[0m \u001b[0;32mdef\u001b[0m \u001b[0mmda_com\u001b[0m\u001b[0;34m(\u001b[0m\u001b[0mtop\u001b[0m\u001b[0;34m:\u001b[0m \u001b[0mmdtraj\u001b[0m\u001b[0;34m.\u001b[0m\u001b[0mTrajectory\u001b[0m\u001b[0;34m,\u001b[0m \u001b[0mtrajectory\u001b[0m\u001b[0;34m:\u001b[0m \u001b[0mmdtraj\u001b[0m\u001b[0;34m.\u001b[0m\u001b[0mTrajectory\u001b[0m\u001b[0;34m)\u001b[0m \u001b[0;34m->\u001b[0m \u001b[0mnp\u001b[0m\u001b[0;34m.\u001b[0m\u001b[0mndarray\u001b[0m\u001b[0;34m:\u001b[0m\u001b[0;34m\u001b[0m\u001b[0;34m\u001b[0m\u001b[0m\n\u001b[1;32m     39\u001b[0m     \u001b[0ma\u001b[0m \u001b[0;34m=\u001b[0m \u001b[0mCOMMDAnalysisComponent\u001b[0m\u001b[0;34m(\u001b[0m\u001b[0mtop\u001b[0m\u001b[0;34m,\u001b[0m \u001b[0mtrajectory\u001b[0m\u001b[0;34m)\u001b[0m\u001b[0;34m\u001b[0m\u001b[0;34m\u001b[0m\u001b[0m\n\u001b[0;32m---> 40\u001b[0;31m     \u001b[0;32mreturn\u001b[0m \u001b[0ma\u001b[0m\u001b[0;34m.\u001b[0m\u001b[0mrun\u001b[0m\u001b[0;34m(\u001b[0m\u001b[0mtop\u001b[0m\u001b[0;34m,\u001b[0m \u001b[0mtrajectory\u001b[0m\u001b[0;34m)\u001b[0m\u001b[0;34m\u001b[0m\u001b[0;34m\u001b[0m\u001b[0m\n\u001b[0m\u001b[1;32m     41\u001b[0m \u001b[0;34m\u001b[0m\u001b[0m\n\u001b[1;32m     42\u001b[0m \u001b[0;32mdef\u001b[0m \u001b[0mmdtraj_com\u001b[0m\u001b[0;34m(\u001b[0m\u001b[0mtop\u001b[0m\u001b[0;34m:\u001b[0m \u001b[0mmdtraj\u001b[0m\u001b[0;34m.\u001b[0m\u001b[0mTrajectory\u001b[0m\u001b[0;34m,\u001b[0m \u001b[0mtrajectory\u001b[0m\u001b[0;34m:\u001b[0m \u001b[0mmdtraj\u001b[0m\u001b[0;34m.\u001b[0m\u001b[0mTrajectory\u001b[0m\u001b[0;34m)\u001b[0m \u001b[0;34m->\u001b[0m \u001b[0mnp\u001b[0m\u001b[0;34m.\u001b[0m\u001b[0mndarray\u001b[0m\u001b[0;34m:\u001b[0m\u001b[0;34m\u001b[0m\u001b[0;34m\u001b[0m\u001b[0m\n",
      "\u001b[0;32m/c/Users/samel/Desktop/Molssi/MolSSI_Components/mminterconcept/mminterconcept/analysis/mda_com.py\u001b[0m in \u001b[0;36mrun\u001b[0;34m(self, struct, trajectory, sel)\u001b[0m\n\u001b[1;32m     40\u001b[0m \u001b[0;34m\u001b[0m\u001b[0m\n\u001b[1;32m     41\u001b[0m         \u001b[0mgroup\u001b[0m \u001b[0;34m=\u001b[0m \u001b[0mself\u001b[0m\u001b[0;34m.\u001b[0m\u001b[0muniverse\u001b[0m\u001b[0;34m.\u001b[0m\u001b[0matoms\u001b[0m\u001b[0;34m.\u001b[0m\u001b[0mselect_atoms\u001b[0m\u001b[0;34m(\u001b[0m\u001b[0mself\u001b[0m\u001b[0;34m.\u001b[0m\u001b[0msel\u001b[0m\u001b[0;34m)\u001b[0m\u001b[0;34m\u001b[0m\u001b[0;34m\u001b[0m\u001b[0m\n\u001b[0;32m---> 42\u001b[0;31m \u001b[0;34m\u001b[0m\u001b[0m\n\u001b[0m\u001b[1;32m     43\u001b[0m         \u001b[0;32mfor\u001b[0m \u001b[0mts\u001b[0m \u001b[0;32min\u001b[0m \u001b[0mself\u001b[0m\u001b[0;34m.\u001b[0m\u001b[0muniverse\u001b[0m\u001b[0;34m.\u001b[0m\u001b[0mtrajectory\u001b[0m\u001b[0;34m:\u001b[0m\u001b[0;34m\u001b[0m\u001b[0;34m\u001b[0m\u001b[0m\n\u001b[1;32m     44\u001b[0m             \u001b[0mcom_by_frame\u001b[0m\u001b[0;34m[\u001b[0m\u001b[0mts\u001b[0m\u001b[0;34m.\u001b[0m\u001b[0mframe\u001b[0m\u001b[0;34m,\u001b[0m\u001b[0;34m:\u001b[0m\u001b[0;34m]\u001b[0m \u001b[0;34m=\u001b[0m \u001b[0mgroup\u001b[0m\u001b[0;34m.\u001b[0m\u001b[0mcenter_of_mass\u001b[0m\u001b[0;34m(\u001b[0m\u001b[0;34m)\u001b[0m\u001b[0;34m\u001b[0m\u001b[0;34m\u001b[0m\u001b[0m\n",
      "\u001b[0;32m/c/Users/samel/Desktop/Molssi/MolSSI_Components/mminterconcept/mminterconcept/analysis/mda_com.py\u001b[0m in \u001b[0;36mprocess_input\u001b[0;34m(self, struct, trajectory, sel)\u001b[0m\n\u001b[1;32m     25\u001b[0m         \u001b[0mself\u001b[0m\u001b[0;34m.\u001b[0m\u001b[0mstruct\u001b[0m \u001b[0;34m=\u001b[0m \u001b[0mstruct\u001b[0m\u001b[0;34m\u001b[0m\u001b[0;34m\u001b[0m\u001b[0m\n\u001b[1;32m     26\u001b[0m         \u001b[0mself\u001b[0m\u001b[0;34m.\u001b[0m\u001b[0msel\u001b[0m \u001b[0;34m=\u001b[0m \u001b[0msel\u001b[0m\u001b[0;34m\u001b[0m\u001b[0;34m\u001b[0m\u001b[0m\n\u001b[0;32m---> 27\u001b[0;31m \u001b[0;34m\u001b[0m\u001b[0m\n\u001b[0m\u001b[1;32m     28\u001b[0m     \u001b[0;32mdef\u001b[0m \u001b[0mprocess_input\u001b[0m\u001b[0;34m(\u001b[0m\u001b[0mself\u001b[0m\u001b[0;34m,\u001b[0m \u001b[0mstruct\u001b[0m\u001b[0;34m:\u001b[0m \u001b[0mmdtraj\u001b[0m\u001b[0;34m.\u001b[0m\u001b[0mTrajectory\u001b[0m\u001b[0;34m,\u001b[0m \u001b[0mtrajectory\u001b[0m\u001b[0;34m:\u001b[0m \u001b[0mmdtraj\u001b[0m\u001b[0;34m.\u001b[0m\u001b[0mTrajectory\u001b[0m\u001b[0;34m,\u001b[0m \u001b[0msel\u001b[0m\u001b[0;34m:\u001b[0m \u001b[0mstr\u001b[0m\u001b[0;34m)\u001b[0m \u001b[0;34m->\u001b[0m \u001b[0mMDAnalysis\u001b[0m\u001b[0;34m.\u001b[0m\u001b[0mUniverse\u001b[0m\u001b[0;34m:\u001b[0m\u001b[0;34m\u001b[0m\u001b[0;34m\u001b[0m\u001b[0m\n\u001b[1;32m     29\u001b[0m         \u001b[0;32mwith\u001b[0m \u001b[0mTemporaryDirectory\u001b[0m\u001b[0;34m(\u001b[0m\u001b[0;34m)\u001b[0m \u001b[0;32mas\u001b[0m \u001b[0mtempdirname\u001b[0m\u001b[0;34m:\u001b[0m\u001b[0;34m\u001b[0m\u001b[0;34m\u001b[0m\u001b[0m\n",
      "\u001b[0;32m/c/Users/samel/Desktop/Molssi/MolSSI_Components/mminterconcept/mminterconcept/analysis/mdanalysis_trajectory_analyzer.py\u001b[0m in \u001b[0;36mprocess_input\u001b[0;34m(self, struct, trajectory, sel)\u001b[0m\n\u001b[1;32m     16\u001b[0m     \u001b[0;32mdef\u001b[0m \u001b[0mprocess_input\u001b[0m\u001b[0;34m(\u001b[0m\u001b[0mself\u001b[0m\u001b[0;34m,\u001b[0m \u001b[0mstruct\u001b[0m\u001b[0;34m:\u001b[0m \u001b[0mmdtraj\u001b[0m\u001b[0;34m.\u001b[0m\u001b[0mTrajectory\u001b[0m\u001b[0;34m,\u001b[0m \u001b[0mtrajectory\u001b[0m\u001b[0;34m:\u001b[0m \u001b[0mmdtraj\u001b[0m\u001b[0;34m.\u001b[0m\u001b[0mTrajectory\u001b[0m\u001b[0;34m,\u001b[0m \u001b[0msel\u001b[0m\u001b[0;34m:\u001b[0m \u001b[0mstr\u001b[0m\u001b[0;34m)\u001b[0m \u001b[0;34m->\u001b[0m \u001b[0mMDAnalysis\u001b[0m\u001b[0;34m.\u001b[0m\u001b[0mUniverse\u001b[0m\u001b[0;34m:\u001b[0m\u001b[0;34m\u001b[0m\u001b[0;34m\u001b[0m\u001b[0m\n\u001b[1;32m     17\u001b[0m         \u001b[0;32mwith\u001b[0m \u001b[0mTemporaryDirectory\u001b[0m\u001b[0;34m(\u001b[0m\u001b[0;34m)\u001b[0m \u001b[0;32mas\u001b[0m \u001b[0mtempdirname\u001b[0m\u001b[0;34m:\u001b[0m\u001b[0;34m\u001b[0m\u001b[0;34m\u001b[0m\u001b[0m\n\u001b[0;32m---> 18\u001b[0;31m             \u001b[0mstruct\u001b[0m\u001b[0;34m.\u001b[0m\u001b[0msave\u001b[0m\u001b[0;34m(\u001b[0m\u001b[0mtempdirname\u001b[0m\u001b[0;34m+\u001b[0m\u001b[0;34m'temp.pdb'\u001b[0m\u001b[0;34m)\u001b[0m\u001b[0;34m\u001b[0m\u001b[0;34m\u001b[0m\u001b[0m\n\u001b[0m\u001b[1;32m     19\u001b[0m             \u001b[0mtrajectory\u001b[0m\u001b[0;34m.\u001b[0m\u001b[0msave\u001b[0m\u001b[0;34m(\u001b[0m\u001b[0mtempdirname\u001b[0m\u001b[0;34m+\u001b[0m\u001b[0;34m'temp.trr'\u001b[0m\u001b[0;34m)\u001b[0m\u001b[0;34m\u001b[0m\u001b[0;34m\u001b[0m\u001b[0m\n\u001b[1;32m     20\u001b[0m             \u001b[0mself\u001b[0m\u001b[0;34m.\u001b[0m\u001b[0muniverse\u001b[0m \u001b[0;34m=\u001b[0m \u001b[0mMDAnalysis\u001b[0m\u001b[0;34m.\u001b[0m\u001b[0mUniverse\u001b[0m\u001b[0;34m(\u001b[0m\u001b[0mtempdirname\u001b[0m\u001b[0;34m+\u001b[0m\u001b[0;34m'temp.pdb'\u001b[0m\u001b[0;34m,\u001b[0m \u001b[0mtempdirname\u001b[0m\u001b[0;34m+\u001b[0m\u001b[0;34m'temp.trr'\u001b[0m\u001b[0;34m)\u001b[0m\u001b[0;34m\u001b[0m\u001b[0;34m\u001b[0m\u001b[0m\n",
      "\u001b[0;31mAttributeError\u001b[0m: 'str' object has no attribute 'save'"
     ]
    }
   ],
   "source": [
    "import os\n",
    "import mdtraj\n",
    "from mminterconcept.analysis import mdtraj_com, mdtraj_rmsd, mdtraj_rog, mdtraj_rdf, mdtraj_den\n",
    "from mminterconcept.analysis import mda_com, mda_rmsd, mda_rog, mda_rdf, mda_den\n",
    "\n",
    "# This is for testing purposes ... the 5 lines below should be eventually deleted\n",
    "path_to_files = os.path.join('mminterconcept', 'data', '1LFH', 'gmx')\n",
    "struct = os.path.join(path_to_files, 'struct', 'system_ionized.pdb')\n",
    "traj = os.path.join(path_to_files, 'traj', 'MD-1ps.trr')\n",
    "\n",
    "topol, trajectory = mdtraj.load(struct), mdtraj.load(traj, top=struct)\n",
    "\n",
    "###################################################\n",
    "####### Compute phys variables with MDTraj ########\n",
    "###################################################\n",
    "\n",
    "# Temporal analyses\n",
    "time_mdt, com_mdt = mdtraj_com(topol, trajectory)\n",
    "time_mdt, den_mdt = mdtraj_den(topol, trajectory)\n",
    "time_mdt, rmsd_mdt = mdtraj_rmsd(topol, trajectory)\n",
    "time_mdt, rog_mdt = mdtraj_rog(topol, trajectory)\n",
    "\n",
    "# Spatial (structural) analysis\n",
    "rdist_mdt, rdf_mdt = mdtraj_rdf(topol, trajectory)\n",
    "\n",
    "\n",
    "###################################################\n",
    "###### Compute phys variables with MDAnalysis #####\n",
    "###################################################\n",
    "\n",
    "# Temporal analyses\n",
    "time_mda, com_mda = mda_com(topol, trajectory)\n",
    "time_mda, den_mda = mda_den(topol, trajectory)\n",
    "time_mda, rmsd_mda = mda_rmsd(topol, trajectory)\n",
    "time_mda, rog_mda = mda_rog(topol, trajectory)\n",
    "\n",
    "# Spatial (structural) analysis\n",
    "rdist_mda, rdf_mda = mda_rdf(topol, trajectory)"
   ]
  },
  {
   "cell_type": "code",
   "execution_count": null,
   "metadata": {},
   "outputs": [],
   "source": [
    "# Plot the x-component of the protein center of mass a function of time\n",
    "from mminterconcept.analysis import plot_com\n",
    "\n",
    "plot_com(time_mdt, com_mdt[:,0], time_mda, com_mda[:,0])"
   ]
  },
  {
   "cell_type": "code",
   "execution_count": null,
   "metadata": {},
   "outputs": [],
   "source": [
    "# Plot root-mean-square deviation as a function of time\n",
    "from mminterconcept.analysis import plot_rmsd\n",
    "\n",
    "plot_rmsd(time_mdt, rmsd_mdt, time_mda, rmsd_mda)"
   ]
  },
  {
   "cell_type": "code",
   "execution_count": null,
   "metadata": {},
   "outputs": [],
   "source": [
    "# Plot mass density of the system as a function of time\n",
    "import matplotlib\n",
    "%matplotlib inline\n",
    "\n",
    "plot_den(time_mdt, den_mdt, time_mda, den_mda)"
   ]
  },
  {
   "cell_type": "code",
   "execution_count": null,
   "metadata": {},
   "outputs": [],
   "source": [
    "from mminterconcept.analysis import plot_den\n",
    "\n",
    "plot_den(time_mdt, den_mdt, time_mda, den_mda)\n"
   ]
  }
 ],
 "metadata": {
  "kernelspec": {
   "display_name": "Python 3",
   "language": "python",
   "name": "python3"
  },
  "language_info": {
   "codemirror_mode": {
    "name": "ipython",
    "version": 3
   },
   "file_extension": ".py",
   "mimetype": "text/x-python",
   "name": "python",
   "nbconvert_exporter": "python",
   "pygments_lexer": "ipython3",
   "version": "3.6.9"
  }
 },
 "nbformat": 4,
 "nbformat_minor": 2
}
