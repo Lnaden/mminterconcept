{
 "cells": [
  {
   "cell_type": "code",
   "execution_count": 18,
   "metadata": {},
   "outputs": [],
   "source": [
    "import os\n",
    "from mminterconcept.construction import (protein_constructor,\n",
    "                           protein_constructor_vacuum,\n",
    "                           protein_constructor_solvate,\n",
    "                           protein_constructor_solvate_ion)\n",
    "\n",
    "from mminterconcept.min_eq import (min_eq,\n",
    "                     gro_minimize,\n",
    "                     gro_eq_nvt,\n",
    "                     gro_eq_npt,\n",
    "                     omm_minimize,\n",
    "                     omm_eq)\n",
    "\n",
    "from mminterconcept.production import (production,\n",
    "                         gromacs_production,\n",
    "                         openmm_production)\n",
    "\n",
    "from mminterconcept.analysis import (analysis,\n",
    "                       mda_com,\n",
    "                       mda_density,\n",
    "                       mda_rdf,\n",
    "                       mda_rmsd,\n",
    "                       mda_rog,\n",
    "                       mdtraj_com,\n",
    "                       mdtraj_density,\n",
    "                       mdtraj_rdf,\n",
    "                       mdtraj_rmsd,\n",
    "                       mdtraj_rog)"
   ]
  },
  {
   "cell_type": "code",
   "execution_count": 19,
   "metadata": {},
   "outputs": [],
   "source": [
    "pdbID = '1LFH'\n",
    "#mdp = os.path.join(os.path.realpath(__file__), \"data\", \"em.mdp\")\n",
    "mdp = os.path.join(os.getcwd(), os.path.join(\"mminterconcept\", \"data\", \"em.mdp\"))"
   ]
  },
  {
   "cell_type": "code",
   "execution_count": 20,
   "metadata": {},
   "outputs": [],
   "source": [
    "trajectory, topology = protein_constructor_vacuum(pdbID, mdp)"
   ]
  },
  {
   "cell_type": "code",
   "execution_count": 25,
   "metadata": {},
   "outputs": [],
   "source": [
    "trajectory, topology = omm_minimize(trajectory=trajectory, topology=topology)"
   ]
  },
  {
   "cell_type": "code",
   "execution_count": 6,
   "metadata": {},
   "outputs": [],
   "source": [
    "trajectory, topology = omm_eq(trajectory=trajectory, topology=topology)"
   ]
  },
  {
   "cell_type": "code",
   "execution_count": 7,
   "metadata": {},
   "outputs": [],
   "source": [
    "trajectory = openmm_production(trajectory=trajectory, topology=topology)"
   ]
  },
  {
   "cell_type": "code",
   "execution_count": 27,
   "metadata": {},
   "outputs": [
    {
     "name": "stdout",
     "output_type": "stream",
     "text": [
      "0.0\n"
     ]
    }
   ],
   "source": [
    "com = mda_com(trajectory)\n",
    "#print(com)\n",
    "density = mda_density(trajectory)\n",
    "#print(density)\n",
    "rdf_bins, rdf_rdf = mda_rdf(trajectory)\n",
    "#print(rdf_r)\n",
    "#print(rdf_p)\n",
    "rmsd = mda_rmsd(trajectory)\n",
    "print(rmsd)\n",
    "rog = mda_rog(trajectory)\n",
    "#print(rog)"
   ]
  },
  {
   "cell_type": "code",
   "execution_count": 26,
   "metadata": {},
   "outputs": [
    {
     "data": {
      "image/png": "[encoded data removed]",
      "text/plain": [
       "<Figure size 432x288 with 1 Axes>"
      ]
     },
     "metadata": {
      "needs_background": "light"
     },
     "output_type": "display_data"
    }
   ],
   "source": [
    "import matplotlib.pylab as plt\n",
    "plt.plot(rdf_bins[1:], rdf_rdf[1:])\n",
    "plt.xlabel('Distance (nm)')\n",
    "plt.ylabel('RDF')\n",
    "plt.grid(linestyle=':')\n",
    "plt.show()\n"
   ]
  },
  {
   "cell_type": "code",
   "execution_count": null,
   "metadata": {},
   "outputs": [],
   "source": []
  }
 ],
 "metadata": {
  "kernelspec": {
   "display_name": "Python 3",
   "language": "python",
   "name": "python3"
  },
  "language_info": {
   "codemirror_mode": {
    "name": "ipython",
    "version": 3
   },
   "file_extension": ".py",
   "mimetype": "text/x-python",
   "name": "python",
   "nbconvert_exporter": "python",
   "pygments_lexer": "ipython3",
   "version": "3.7.3"
  }
 },
 "nbformat": 4,
 "nbformat_minor": 2
}
