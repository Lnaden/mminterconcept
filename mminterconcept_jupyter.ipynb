{
 "cells": [
  {
   "cell_type": "code",
   "execution_count": null,
   "metadata": {},
   "outputs": [],
   "source": [
    "import os\n",
    "from mminterconcept.construction import (protein_constructor,\n",
    "                           protein_constructor_vacuum,\n",
    "                           protein_constructor_solvate,\n",
    "                           protein_constructor_solvate_ion)\n",
    "\n",
    "from mminterconcept.min_eq import (min_eq,\n",
    "                     gro_minimize,\n",
    "                     gro_eq_nvt,\n",
    "                     gro_eq_npt,\n",
    "                     omm_minimize,\n",
    "                     omm_eq)\n",
    "\n",
    "from mminterconcept.production import (production,\n",
    "                         gromacs_production,\n",
    "                         openmm_production)\n",
    "\n",
    "from mminterconcept.analysis import (analysis,\n",
    "                       mda_com,\n",
    "                       mda_density,\n",
    "                       mda_rdf,\n",
    "                       mda_rmsd,\n",
    "                       mda_rog,\n",
    "                       mdtraj_com,\n",
    "                       mdtraj_density,\n",
    "                       mdtraj_rdf,\n",
    "                       mdtraj_rmsd,\n",
    "                       mdtraj_rog)"
   ]
  },
  {
   "cell_type": "code",
   "execution_count": null,
   "metadata": {},
   "outputs": [],
   "source": [
    "\n",
    "#mdp = os.path.join(os.path.realpath(__file__), \"data\", \"em.mdp\")\n",
    "mdp = os.path.join(os.getcwd(), os.path.join(\"mminterconcept\", \"data\", \"em.mdp\"))\n"
   ]
  },
  {
   "cell_type": "code",
   "execution_count": null,
   "metadata": {},
   "outputs": [],
   "source": [
    "trajectory, topology = protein_constructor_vacuum(pdbID, mdp)"
   ]
  },
  {
   "cell_type": "code",
   "execution_count": null,
   "metadata": {},
   "outputs": [],
   "source": [
    "trajectory, topology = omm_minimize(trajectory=trajectory, topology=topology)"
   ]
  },
  {
   "cell_type": "code",
   "execution_count": null,
   "metadata": {},
   "outputs": [],
   "source": [
    "trajectory, topology = omm_eq(trajectory=trajectory, topology=topology)"
   ]
  },
  {
   "cell_type": "code",
   "execution_count": null,
   "metadata": {},
   "outputs": [],
   "source": [
    "trajectory, topology = openmm_production(trajectory=trajectory, topology=topology)"
   ]
  },
  {
   "cell_type": "code",
   "execution_count": 4,
   "metadata": {},
   "outputs": [
    {
     "data": {
      "application/vnd.jupyter.widget-view+json": {
       "model_id": "8d6ba91f7b1a4909a044403fe8bae45e",
       "version_major": 2,
       "version_minor": 0
      },
      "text/plain": [
       "NGLWidget(max_frame=37)"
      ]
     },
     "metadata": {},
     "output_type": "display_data"
    }
   ],
   "source": [
    "import nglview\n",
    "from mminterconcept.construction.tools import ImportPDB \n",
    "\n",
    "#pdbID = '1LFH' # LACTOFERRIN globular glycoprotein ~ 10549 atoms\n",
    "pdbID = '1L2Y' # ARTIFICIAL Trp-Cage miniprotein ~ 304 atoms \n",
    "\n",
    "with ImportPDB(pdbID) as traj:\n",
    "    view = nglview.show_mdtraj(traj)\n",
    "\n",
    "view"
   ]
  },
  {
   "cell_type": "code",
   "execution_count": null,
   "metadata": {},
   "outputs": [],
   "source": [
    "import os\n",
    "import mdtraj\n",
    "from mminterconcept.analysis import mdtraj_com, mdtraj_rmsd, mdtraj_rog, mdtraj_rdf, mdtraj_den\n",
    "from mminterconcept.analysis import mda_com, mda_rmsd, mda_rog, mda_rdf, mda_den\n",
    "\n",
    "# This is for testing purposes ... the 5 lines below should be eventually deleted\n",
    "path_to_files = os.path.join('mminterconcept', 'data', '1LFH', 'gmx')\n",
    "struct = os.path.join(path_to_files, 'struct', 'system_ionized.pdb')\n",
    "traj = os.path.join(path_to_files, 'traj', 'MD-1ps.trr')\n",
    "\n",
    "topol, trajectory = mdtraj.load(struct), mdtraj.load(traj, top=struct)\n",
    "\n",
    "###################################################\n",
    "####### Compute phys variables with MDTraj ########\n",
    "###################################################\n",
    "\n",
    "# Temporal analyses\n",
    "time_mdt, com_mdt = mdtraj_com(topol, trajectory)\n",
    "time_mdt, den_mdt = mdtraj_den(topol, trajectory)\n",
    "time_mdt, rmsd_mdt = mdtraj_rmsd(topol, trajectory)\n",
    "time_mdt, rog_mdt = mdtraj_rog(topol, trajectory)\n",
    "\n",
    "# Spatial (structural) analysis\n",
    "rdist_mdt, rdf_mdt = mdtraj_rdf(topol, trajectory)\n",
    "\n",
    "\n",
    "###################################################\n",
    "###### Compute phys variables with MDAnalysis #####\n",
    "###################################################\n",
    "\n",
    "# Temporal analyses\n",
    "time_mda, com_mda = mda_com(topol, trajectory)\n",
    "time_mda, den_mda = mda_den(topol, trajectory)\n",
    "time_mda, rmsd_mda = mda_rmsd(topol, trajectory)\n",
    "time_mda, rog_mda = mda_rog(topol, trajectory)\n",
    "\n",
    "# Spatial (structural) analysis\n",
    "rdist_mda, rdf_mda = mda_rdf(topol, trajectory)"
   ]
  },
  {
   "cell_type": "code",
   "execution_count": null,
   "metadata": {},
   "outputs": [],
   "source": [
    "# Plot the x-component of the protein center of mass a function of time\n",
    "from mminterconcept.analysis import plot_com\n",
    "\n",
    "plot_com(time_mdt, com_mdt[:,0], time_mda, com_mda[:,0])"
   ]
  },
  {
   "cell_type": "code",
   "execution_count": null,
   "metadata": {},
   "outputs": [],
   "source": [
    "# Plot root-mean-square deviation as a function of time\n",
    "from mminterconcept.analysis import plot_rmsd\n",
    "\n",
    "plot_rmsd(time_mdt, rmsd_mdt, time_mda, rmsd_mda)"
   ]
  },
  {
   "cell_type": "code",
   "execution_count": null,
   "metadata": {},
   "outputs": [],
   "source": [
    "# Plot mass density of the system as a function of time\n",
    "import matplotlib\n",
    "%matplotlib inline\n",
    "\n",
    "plot_den(time_mdt, den_mdt, time_mda, den_mda)"
   ]
  },
  {
   "cell_type": "code",
   "execution_count": null,
   "metadata": {},
   "outputs": [],
   "source": [
    "from mminterconcept.analysis import plot_den\n",
    "\n",
    "plot_den(time_mdt, den_mdt, time_mda, den_mda)\n"
   ]
  }
 ],
 "metadata": {
  "kernelspec": {
   "display_name": "Python 3",
   "language": "python",
   "name": "python3"
  },
  "language_info": {
   "codemirror_mode": {
    "name": "ipython",
    "version": 3
   },
   "file_extension": ".py",
   "mimetype": "text/x-python",
   "name": "python",
   "nbconvert_exporter": "python",
   "pygments_lexer": "ipython3",
   "version": "3.7.3"
  }
 },
 "nbformat": 4,
 "nbformat_minor": 2
}
